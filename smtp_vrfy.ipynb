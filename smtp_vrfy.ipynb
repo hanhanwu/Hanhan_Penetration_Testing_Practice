{
 "cells": [
  {
   "cell_type": "code",
   "execution_count": 5,
   "metadata": {
    "collapsed": true
   },
   "outputs": [],
   "source": [
    "#/usr/bin/env python\n",
    "import sys, socket, string"
   ]
  },
  {
   "cell_type": "code",
   "execution_count": 2,
   "metadata": {
    "collapsed": true
   },
   "outputs": [],
   "source": [
    "sample_username_lst = ['Alice', 'Bob', 'Cindy', 'Diana', 'Eller']"
   ]
  },
  {
   "cell_type": "code",
   "execution_count": 7,
   "metadata": {},
   "outputs": [
    {
     "name": "stdout",
     "output_type": "stream",
     "text": [
      "['aAlice', 'aBob', 'aCindy', 'aDiana', 'aEller', 'bAlice', 'bBob', 'bCindy', 'bDiana', 'bEller', 'cAlice', 'cBob', 'cCindy', 'cDiana', 'cEller', 'dAlice', 'dBob', 'dCindy', 'dDiana', 'dEller', 'eAlice', 'eBob', 'eCindy', 'eDiana', 'eEller', 'fAlice', 'fBob', 'fCindy', 'fDiana', 'fEller', 'gAlice', 'gBob', 'gCindy', 'gDiana', 'gEller', 'hAlice', 'hBob', 'hCindy', 'hDiana', 'hEller', 'iAlice', 'iBob', 'iCindy', 'iDiana', 'iEller', 'jAlice', 'jBob', 'jCindy', 'jDiana', 'jEller', 'kAlice', 'kBob', 'kCindy', 'kDiana', 'kEller', 'lAlice', 'lBob', 'lCindy', 'lDiana', 'lEller', 'mAlice', 'mBob', 'mCindy', 'mDiana', 'mEller', 'nAlice', 'nBob', 'nCindy', 'nDiana', 'nEller', 'oAlice', 'oBob', 'oCindy', 'oDiana', 'oEller', 'pAlice', 'pBob', 'pCindy', 'pDiana', 'pEller', 'qAlice', 'qBob', 'qCindy', 'qDiana', 'qEller', 'rAlice', 'rBob', 'rCindy', 'rDiana', 'rEller', 'sAlice', 'sBob', 'sCindy', 'sDiana', 'sEller', 'tAlice', 'tBob', 'tCindy', 'tDiana', 'tEller', 'uAlice', 'uBob', 'uCindy', 'uDiana', 'uEller', 'vAlice', 'vBob', 'vCindy', 'vDiana', 'vEller', 'wAlice', 'wBob', 'wCindy', 'wDiana', 'wEller', 'xAlice', 'xBob', 'xCindy', 'xDiana', 'xEller', 'yAlice', 'yBob', 'yCindy', 'yDiana', 'yEller', 'zAlice', 'zBob', 'zCindy', 'zDiana', 'zEller']\n"
     ]
    }
   ],
   "source": [
    "alph_lst = string.ascii_lowercase[:26]\n",
    "\n",
    "def get_namelst(surname_lst):\n",
    "    results = [c + surname for c in alph_lst for surname in surname_lst]\n",
    "    return results\n",
    "\n",
    "generated_name_lst = get_namelst(sample_username_lst)\n",
    "print(generated_name_lst)"
   ]
  },
  {
   "cell_type": "code",
   "execution_count": 17,
   "metadata": {
    "collapsed": true
   },
   "outputs": [],
   "source": [
    "ip = '[you IP]'\n",
    "port = [your port]\n",
    "timeout = 7000\n",
    "sleep_time = 1000"
   ]
  },
  {
   "cell_type": "code",
   "execution_count": 18,
   "metadata": {
    "collapsed": true
   },
   "outputs": [],
   "source": [
    "def verify_valid_users(ip, port=25, timeout, sleep_time, username_lst):\n",
    "    valid_users = []\n",
    "    \n",
    "    for username in username_lst:\n",
    "        try:\n",
    "            sys.stdout.flush()  # forcing things in the buffer flush to terminal without waiting\n",
    "            s=socket.socket(socket.AF_INET, socket.SOCK_STREAM)\n",
    "            s.settimeout(timeout)\n",
    "            connect=s.connect((ip,port))\n",
    "            banner=s.recv(1024)\n",
    "\n",
    "            print(\"User: \" + username)\n",
    "\n",
    "            s.send(command)\n",
    "            result=s.recv(1024)\n",
    "\n",
    "            if '252' in results:\n",
    "                valid_users.append(username)\n",
    "                print('valid user: ' + username)\n",
    "            elif '503' in results:\n",
    "                print('The service requires authentication!')\n",
    "                break\n",
    "            elif '500' in results:\n",
    "                print(\"The service does not support VRFY\")\n",
    "                break\n",
    "            elif '550' in results:\n",
    "                print(\"username not in the system\")\n",
    "        except Exception as e:\n",
    "            if 'Operation now in progress' in e:\n",
    "                print(\"The connection to SMTP failed\")\n",
    "            else:\n",
    "                print(str(e))\n",
    "        finally:  # execute after try before except\n",
    "            s.close()\n",
    "            if sleep_time > 0:\n",
    "                time.sleep(sleep_time)\n",
    "            sys.stdout.flush()"
   ]
  },
  {
   "cell_type": "code",
   "execution_count": null,
   "metadata": {
    "collapsed": true
   },
   "outputs": [],
   "source": [
    "verify_valid_users(ip, port, timeout, sleep_time)"
   ]
  }
 ],
 "metadata": {
  "kernelspec": {
   "display_name": "Python 3",
   "language": "python",
   "name": "python3"
  },
  "language_info": {
   "codemirror_mode": {
    "name": "ipython",
    "version": 3
   },
   "file_extension": ".py",
   "mimetype": "text/x-python",
   "name": "python",
   "nbconvert_exporter": "python",
   "pygments_lexer": "ipython3",
   "version": "3.6.1"
  }
 },
 "nbformat": 4,
 "nbformat_minor": 2
}
