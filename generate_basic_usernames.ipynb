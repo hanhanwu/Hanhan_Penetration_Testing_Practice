{
 "cells": [
  {
   "cell_type": "code",
   "execution_count": 18,
   "metadata": {
    "collapsed": true
   },
   "outputs": [],
   "source": [
    "# Download the surnames here: https://www2.census.gov/topics/genealogy/2010surnames/\n",
    "# Here I converted the Excel file to csv as the input\n",
    "# I'm practicing Spark2.2 here, you don't have to use Spark\n",
    "\n",
    "from pyspark.sql.functions import udf\n",
    "from pyspark.sql import SparkSession\n",
    "from pyspark.sql.types import *\n",
    "import string"
   ]
  },
  {
   "cell_type": "code",
   "execution_count": 3,
   "metadata": {
    "collapsed": true
   },
   "outputs": [],
   "source": [
    "spark = SparkSession.builder.master(\"local\")\\\n",
    "        .appName(\"Anomalies Detection\")\\\n",
    "        .config(\"spark.some.config.option\", \"some-value\")\n",
    "        .getOrCreate()"
   ]
  },
  {
   "cell_type": "code",
   "execution_count": 23,
   "metadata": {},
   "outputs": [
    {
     "name": "stdout",
     "output_type": "stream",
     "text": [
      "+--------+----+-----------------+---------------------------------+---------------------+------------------------------------------+--------------------------------------------------------------+-----------------------------------------------------------------------------------------+----------------------------------------------------------------------+------------------------------------------------+---------------------------------+\n",
      "| SURNAME|RANK|FREQUENCY (COUNT)|PROPORTION PER 100,000 POPULATION|CUMULATIVE PROPORTION|PERCENT NON-HISPANIC OR LATINO WHITE ALONE|PERCENT NON-HISPANIC OR LATINO BLACK OR AFRICAN AMERICAN ALONE|PERCENT NON-HISPANIC OR LATINO ASIAN AND NATIVE HAWAIIAN AND OTHER PACIFIC ISLANDER ALONE|PERCENT NON-HISPANIC OR LATINO AMERICAN INDIAN AND ALASKA NATIVE ALONE|PERCENT NON-HISPANIC OR LATINO TWO OR MORE RACES|PERCENT HISPANIC OR LATINO ORIGIN|\n",
      "+--------+----+-----------------+---------------------------------+---------------------+------------------------------------------+--------------------------------------------------------------+-----------------------------------------------------------------------------------------+----------------------------------------------------------------------+------------------------------------------------+---------------------------------+\n",
      "|   SMITH|   1|        2,442,977|                            828.2|                828.2|                                      70.9|                                                          23.1|                                                                                      0.5|                                                                   0.9|                                             2.2|                              2.4|\n",
      "| JOHNSON|   2|        1,932,812|                            655.2|              1,483.4|                                      59.0|                                                          34.6|                                                                                      0.5|                                                                   0.9|                                             2.6|                              2.4|\n",
      "|WILLIAMS|   3|        1,625,252|                            551.0|              2,034.4|                                      45.8|                                                          47.7|                                                                                      0.5|                                                                   0.8|                                             2.8|                              2.5|\n",
      "|   BROWN|   4|        1,437,026|                            487.2|              2,521.6|                                      58.0|                                                          35.6|                                                                                      0.5|                                                                   0.9|                                             2.6|                              2.5|\n",
      "|   JONES|   5|        1,425,470|                            483.2|              3,004.8|                                      55.2|                                                          38.5|                                                                                      0.4|                                                                   1.0|                                             2.6|                              2.3|\n",
      "|  GARCIA|   6|        1,166,120|                            395.3|              3,400.1|                                       5.4|                                                           0.5|                                                                                      1.4|                                                                   0.5|                                             0.3|                             92.0|\n",
      "|  MILLER|   7|        1,161,437|                            393.7|              3,793.9|                                      84.1|                                                          10.8|                                                                                      0.5|                                                                   0.7|                                             1.8|                              2.2|\n",
      "+--------+----+-----------------+---------------------------------+---------------------+------------------------------------------+--------------------------------------------------------------+-----------------------------------------------------------------------------------------+----------------------------------------------------------------------+------------------------------------------------+---------------------------------+\n",
      "only showing top 7 rows\n",
      "\n"
     ]
    }
   ],
   "source": [
    "df = spark.read.csv(\"Names_2010Census_Top1000.csv\", header=True)\n",
    "df.show(n=7)"
   ]
  },
  {
   "cell_type": "code",
   "execution_count": 24,
   "metadata": {},
   "outputs": [
    {
     "name": "stdout",
     "output_type": "stream",
     "text": [
      "+--------+\n",
      "| SURNAME|\n",
      "+--------+\n",
      "|   SMITH|\n",
      "| JOHNSON|\n",
      "|WILLIAMS|\n",
      "|   BROWN|\n",
      "|   JONES|\n",
      "|  GARCIA|\n",
      "|  MILLER|\n",
      "+--------+\n",
      "only showing top 7 rows\n",
      "\n"
     ]
    }
   ],
   "source": [
    "df.select('SURNAME').show(n=7)"
   ]
  },
  {
   "cell_type": "code",
   "execution_count": 25,
   "metadata": {},
   "outputs": [],
   "source": [
    "# define udf\n",
    "## the method is simply, just add a to z before each surname, one by one\n",
    "\n",
    "alph_lst = string.ascii_lowercase[:26]\n",
    "\n",
    "def get_namelst(surname):\n",
    "    results = [c + surname for c in alph_lst]\n",
    "    return results\n",
    "\n",
    "convertUDF = udf(lambda r: get_namelst(r), ArrayType(StringType()))\n",
    "newdf = df.withColumn(\"namelst\", convertUDF(df.SURNAME))"
   ]
  },
  {
   "cell_type": "code",
   "execution_count": 26,
   "metadata": {},
   "outputs": [
    {
     "name": "stdout",
     "output_type": "stream",
     "text": [
      "+--------+--------------------+\n",
      "| SURNAME|             namelst|\n",
      "+--------+--------------------+\n",
      "|   SMITH|[aSMITH, bSMITH, ...|\n",
      "| JOHNSON|[aJOHNSON, bJOHNS...|\n",
      "|WILLIAMS|[aWILLIAMS, bWILL...|\n",
      "|   BROWN|[aBROWN, bBROWN, ...|\n",
      "|   JONES|[aJONES, bJONES, ...|\n",
      "|  GARCIA|[aGARCIA, bGARCIA...|\n",
      "|  MILLER|[aMILLER, bMILLER...|\n",
      "+--------+--------------------+\n",
      "only showing top 7 rows\n",
      "\n"
     ]
    }
   ],
   "source": [
    "newdf.select('SURNAME', 'namelst').show(n=7)"
   ]
  }
 ],
 "metadata": {
  "kernelspec": {
   "display_name": "Python 2",
   "language": "python",
   "name": "python2"
  },
  "language_info": {
   "codemirror_mode": {
    "name": "ipython",
    "version": 2
   },
   "file_extension": ".py",
   "mimetype": "text/x-python",
   "name": "python",
   "nbconvert_exporter": "python",
   "pygments_lexer": "ipython2",
   "version": "2.7.13"
  }
 },
 "nbformat": 4,
 "nbformat_minor": 2
}
